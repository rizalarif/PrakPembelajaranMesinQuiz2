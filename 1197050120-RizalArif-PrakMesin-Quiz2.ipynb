{
 "cells": [
  {
   "cell_type": "code",
   "execution_count": 2,
   "id": "f1fa754a",
   "metadata": {},
   "outputs": [],
   "source": [
    "import pandas as pd"
   ]
  },
  {
   "cell_type": "code",
   "execution_count": 3,
   "id": "7142b2df",
   "metadata": {},
   "outputs": [],
   "source": [
    "data = pd.read_csv('ipl_schedule.csv')"
   ]
  },
  {
   "cell_type": "code",
   "execution_count": 4,
   "id": "59cc6193",
   "metadata": {},
   "outputs": [
    {
     "data": {
      "text/html": [
       "<div>\n",
       "<style scoped>\n",
       "    .dataframe tbody tr th:only-of-type {\n",
       "        vertical-align: middle;\n",
       "    }\n",
       "\n",
       "    .dataframe tbody tr th {\n",
       "        vertical-align: top;\n",
       "    }\n",
       "\n",
       "    .dataframe thead th {\n",
       "        text-align: right;\n",
       "    }\n",
       "</style>\n",
       "<table border=\"1\" class=\"dataframe\">\n",
       "  <thead>\n",
       "    <tr style=\"text-align: right;\">\n",
       "      <th></th>\n",
       "      <th>DATE</th>\n",
       "      <th>TIME</th>\n",
       "      <th>PM/AM</th>\n",
       "      <th>HOME TEAM</th>\n",
       "      <th>AWAY TEAM</th>\n",
       "      <th>VENUE</th>\n",
       "    </tr>\n",
       "  </thead>\n",
       "  <tbody>\n",
       "    <tr>\n",
       "      <th>0</th>\n",
       "      <td>26/03/22</td>\n",
       "      <td>7:30</td>\n",
       "      <td>PM</td>\n",
       "      <td>Chennai Super Kings</td>\n",
       "      <td>Kolkata Knight Riders</td>\n",
       "      <td>Wankhede Stadium</td>\n",
       "    </tr>\n",
       "    <tr>\n",
       "      <th>1</th>\n",
       "      <td>27/03/22</td>\n",
       "      <td>3:30</td>\n",
       "      <td>PM</td>\n",
       "      <td>Delhi Capitals</td>\n",
       "      <td>Mumbai Indians</td>\n",
       "      <td>Brabourne - CCI</td>\n",
       "    </tr>\n",
       "    <tr>\n",
       "      <th>2</th>\n",
       "      <td>27/03/22</td>\n",
       "      <td>7:30</td>\n",
       "      <td>PM</td>\n",
       "      <td>Punjab Kings</td>\n",
       "      <td>Royal Challengers Bangalore</td>\n",
       "      <td>DY Patil Stadium</td>\n",
       "    </tr>\n",
       "    <tr>\n",
       "      <th>3</th>\n",
       "      <td>28/03/22</td>\n",
       "      <td>7:30</td>\n",
       "      <td>PM</td>\n",
       "      <td>Gujarat Titans</td>\n",
       "      <td>Lucknow Super Giants</td>\n",
       "      <td>Wankhede Stadium</td>\n",
       "    </tr>\n",
       "    <tr>\n",
       "      <th>4</th>\n",
       "      <td>29/03/22</td>\n",
       "      <td>7:30</td>\n",
       "      <td>PM</td>\n",
       "      <td>Sunrisers Hyderabad</td>\n",
       "      <td>Rajasthan Royals</td>\n",
       "      <td>MCA Stadium, Pune</td>\n",
       "    </tr>\n",
       "  </tbody>\n",
       "</table>\n",
       "</div>"
      ],
      "text/plain": [
       "       DATE  TIME PM/AM            HOME TEAM                    AWAY TEAM  \\\n",
       "0  26/03/22  7:30    PM  Chennai Super Kings        Kolkata Knight Riders   \n",
       "1  27/03/22  3:30    PM       Delhi Capitals               Mumbai Indians   \n",
       "2  27/03/22  7:30    PM         Punjab Kings  Royal Challengers Bangalore   \n",
       "3  28/03/22  7:30    PM       Gujarat Titans         Lucknow Super Giants   \n",
       "4  29/03/22  7:30    PM  Sunrisers Hyderabad             Rajasthan Royals   \n",
       "\n",
       "               VENUE  \n",
       "0   Wankhede Stadium  \n",
       "1    Brabourne - CCI  \n",
       "2   DY Patil Stadium  \n",
       "3   Wankhede Stadium  \n",
       "4  MCA Stadium, Pune  "
      ]
     },
     "execution_count": 4,
     "metadata": {},
     "output_type": "execute_result"
    }
   ],
   "source": [
    "data.head()"
   ]
  },
  {
   "cell_type": "code",
   "execution_count": 6,
   "id": "17614618",
   "metadata": {},
   "outputs": [
    {
     "name": "stdout",
     "output_type": "stream",
     "text": [
      "DATE         object\n",
      "TIME         object\n",
      "PM/AM        object\n",
      "HOME TEAM    object\n",
      "AWAY TEAM    object\n",
      "VENUE        object\n",
      "dtype: object\n"
     ]
    }
   ],
   "source": [
    "print(data.dtypes)"
   ]
  },
  {
   "cell_type": "code",
   "execution_count": 7,
   "id": "2c7469e6",
   "metadata": {},
   "outputs": [
    {
     "data": {
      "text/plain": [
       "<bound method DataFrame.info of         DATE  TIME PM/AM                    HOME TEAM  \\\n",
       "0   26/03/22  7:30    PM          Chennai Super Kings   \n",
       "1   27/03/22  3:30    PM               Delhi Capitals   \n",
       "2   27/03/22  7:30    PM                 Punjab Kings   \n",
       "3   28/03/22  7:30    PM               Gujarat Titans   \n",
       "4   29/03/22  7:30    PM          Sunrisers Hyderabad   \n",
       "..       ...   ...   ...                          ...   \n",
       "65  18/05/22  7:30    PM        Kolkata Knight Riders   \n",
       "66  19/05/22  7:30    PM  Royal Challengers Bangalore   \n",
       "67  20/05/22  7:30    PM             Rajasthan Royals   \n",
       "68  21/05/22  7:30    PM               Mumbai Indians   \n",
       "69  22/05/22  7:30    PM          Sunrisers Hyderabad   \n",
       "\n",
       "                      AWAY TEAM              VENUE  \n",
       "0         Kolkata Knight Riders   Wankhede Stadium  \n",
       "1                Mumbai Indians    Brabourne - CCI  \n",
       "2   Royal Challengers Bangalore   DY Patil Stadium  \n",
       "3          Lucknow Super Giants   Wankhede Stadium  \n",
       "4              Rajasthan Royals  MCA Stadium, Pune  \n",
       "..                          ...                ...  \n",
       "65         Lucknow Super Giants   DY Patil Stadium  \n",
       "66               Gujarat Titans   Wankhede Stadium  \n",
       "67          Chennai Super Kings    Brabourne - CCI  \n",
       "68               Delhi Capitals   Wankhede Stadium  \n",
       "69                 Punjab Kings   Wankhede Stadium  \n",
       "\n",
       "[70 rows x 6 columns]>"
      ]
     },
     "execution_count": 7,
     "metadata": {},
     "output_type": "execute_result"
    }
   ],
   "source": [
    "data.info"
   ]
  },
  {
   "cell_type": "code",
   "execution_count": 8,
   "id": "5cab4a97",
   "metadata": {},
   "outputs": [
    {
     "data": {
      "text/plain": [
       "<bound method NDFrame.describe of         DATE  TIME PM/AM                    HOME TEAM  \\\n",
       "0   26/03/22  7:30    PM          Chennai Super Kings   \n",
       "1   27/03/22  3:30    PM               Delhi Capitals   \n",
       "2   27/03/22  7:30    PM                 Punjab Kings   \n",
       "3   28/03/22  7:30    PM               Gujarat Titans   \n",
       "4   29/03/22  7:30    PM          Sunrisers Hyderabad   \n",
       "..       ...   ...   ...                          ...   \n",
       "65  18/05/22  7:30    PM        Kolkata Knight Riders   \n",
       "66  19/05/22  7:30    PM  Royal Challengers Bangalore   \n",
       "67  20/05/22  7:30    PM             Rajasthan Royals   \n",
       "68  21/05/22  7:30    PM               Mumbai Indians   \n",
       "69  22/05/22  7:30    PM          Sunrisers Hyderabad   \n",
       "\n",
       "                      AWAY TEAM              VENUE  \n",
       "0         Kolkata Knight Riders   Wankhede Stadium  \n",
       "1                Mumbai Indians    Brabourne - CCI  \n",
       "2   Royal Challengers Bangalore   DY Patil Stadium  \n",
       "3          Lucknow Super Giants   Wankhede Stadium  \n",
       "4              Rajasthan Royals  MCA Stadium, Pune  \n",
       "..                          ...                ...  \n",
       "65         Lucknow Super Giants   DY Patil Stadium  \n",
       "66               Gujarat Titans   Wankhede Stadium  \n",
       "67          Chennai Super Kings    Brabourne - CCI  \n",
       "68               Delhi Capitals   Wankhede Stadium  \n",
       "69                 Punjab Kings   Wankhede Stadium  \n",
       "\n",
       "[70 rows x 6 columns]>"
      ]
     },
     "execution_count": 8,
     "metadata": {},
     "output_type": "execute_result"
    }
   ],
   "source": [
    "data.describe"
   ]
  },
  {
   "cell_type": "code",
   "execution_count": 9,
   "id": "3a189909",
   "metadata": {},
   "outputs": [
    {
     "data": {
      "text/plain": [
       "<bound method DataFrame.count of         DATE  TIME PM/AM                    HOME TEAM  \\\n",
       "0   26/03/22  7:30    PM          Chennai Super Kings   \n",
       "1   27/03/22  3:30    PM               Delhi Capitals   \n",
       "2   27/03/22  7:30    PM                 Punjab Kings   \n",
       "3   28/03/22  7:30    PM               Gujarat Titans   \n",
       "4   29/03/22  7:30    PM          Sunrisers Hyderabad   \n",
       "..       ...   ...   ...                          ...   \n",
       "65  18/05/22  7:30    PM        Kolkata Knight Riders   \n",
       "66  19/05/22  7:30    PM  Royal Challengers Bangalore   \n",
       "67  20/05/22  7:30    PM             Rajasthan Royals   \n",
       "68  21/05/22  7:30    PM               Mumbai Indians   \n",
       "69  22/05/22  7:30    PM          Sunrisers Hyderabad   \n",
       "\n",
       "                      AWAY TEAM              VENUE  \n",
       "0         Kolkata Knight Riders   Wankhede Stadium  \n",
       "1                Mumbai Indians    Brabourne - CCI  \n",
       "2   Royal Challengers Bangalore   DY Patil Stadium  \n",
       "3          Lucknow Super Giants   Wankhede Stadium  \n",
       "4              Rajasthan Royals  MCA Stadium, Pune  \n",
       "..                          ...                ...  \n",
       "65         Lucknow Super Giants   DY Patil Stadium  \n",
       "66               Gujarat Titans   Wankhede Stadium  \n",
       "67          Chennai Super Kings    Brabourne - CCI  \n",
       "68               Delhi Capitals   Wankhede Stadium  \n",
       "69                 Punjab Kings   Wankhede Stadium  \n",
       "\n",
       "[70 rows x 6 columns]>"
      ]
     },
     "execution_count": 9,
     "metadata": {},
     "output_type": "execute_result"
    }
   ],
   "source": [
    "data.count"
   ]
  },
  {
   "cell_type": "code",
   "execution_count": null,
   "id": "089c2c58",
   "metadata": {},
   "outputs": [],
   "source": []
  }
 ],
 "metadata": {
  "kernelspec": {
   "display_name": "Python 3 (ipykernel)",
   "language": "python",
   "name": "python3"
  },
  "language_info": {
   "codemirror_mode": {
    "name": "ipython",
    "version": 3
   },
   "file_extension": ".py",
   "mimetype": "text/x-python",
   "name": "python",
   "nbconvert_exporter": "python",
   "pygments_lexer": "ipython3",
   "version": "3.10.2"
  }
 },
 "nbformat": 4,
 "nbformat_minor": 5
}
